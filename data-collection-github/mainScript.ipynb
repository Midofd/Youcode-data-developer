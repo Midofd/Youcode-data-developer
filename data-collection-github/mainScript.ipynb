{
 "cells": [
  {
   "attachments": {},
   "cell_type": "markdown",
   "metadata": {},
   "source": [
    "# Import Libraries"
   ]
  },
  {
   "cell_type": "code",
   "execution_count": 32,
   "metadata": {},
   "outputs": [],
   "source": [
    "import datetime\n",
    "from dateutil.relativedelta import relativedelta\n",
    "import os\n",
    "import requests\n",
    "from github import Github\n",
    "import pandas as pd\n",
    "from bs4 import BeautifulSoup"
   ]
  },
  {
   "attachments": {},
   "cell_type": "markdown",
   "metadata": {},
   "source": [
    "# Trending technologie"
   ]
  },
  {
   "cell_type": "code",
   "execution_count": 30,
   "metadata": {},
   "outputs": [
    {
     "name": "stdout",
     "output_type": "stream",
     "text": [
      "['AntonOsika/gpt-engineer', 'AI4Finance-Foundation/FinGPT', 'alibaba/Chat2DB', 'openai/openai-cookbook', 'stefan-jansen/machine-learning-for-trading', 'facebookresearch/ijepa', 'Victorwz/LongMem', 'hwchase17/langchain', 'sunner/ChatALL', 'hiyouga/LLaMA-Efficient-Tuning', 'YimMenu/YimMenu', 'krzysztofzablocki/Swift-Macros', 'ordinals/ord', 'tatsu-lab/alpaca_eval', 'imClumsyPanda/langchain-ChatGLM', 'gopherchina/conference', 'lm-sys/FastChat', 'microsoft/DeepSpeed', 'nrwl/nx', 'ataradov/usb-sniffer', 'open-mmlab/mmagic', 'imartinez/privateGPT', 'rvaidun/befake', 'Uniswap/v4-core', 'ziglang/zig']\n",
      "Number of repositories: 25\n"
     ]
    }
   ],
   "source": [
    "def trend_repositories_names(since='daily'):\n",
    "    #Build request URL\n",
    "    url=f\"https://github.com/trending?since={since}\"\n",
    "    #send request and parse HTML to exc data\n",
    "    response = requests.get(url)\n",
    "    soup = BeautifulSoup(response.content, 'html.parser')\n",
    "    titles = soup.find_all('h2', class_='h3 lh-condensed')\n",
    "    \n",
    "    #Get the list of Trending repository\n",
    "    trend_repository = []\n",
    "    for title in titles:\n",
    "        links = title.find_all('a')\n",
    "        for link in links:\n",
    "            href_value = link.get('href')\n",
    "            trend_repository.append(href_value[1:])\n",
    "    return trend_repository\n",
    "\n",
    "trend_repo=trend_repositories_names(since='daily')\n",
    "\n",
    "print(trend_repo)\n",
    "print(f'Number of repositories: {len(trend_repo)}')"
   ]
  },
  {
   "cell_type": "code",
   "execution_count": 31,
   "metadata": {},
   "outputs": [
    {
     "ename": "BadCredentialsException",
     "evalue": "401 {\"message\": \"Bad credentials\", \"documentation_url\": \"https://docs.github.com/rest\"}",
     "output_type": "error",
     "traceback": [
      "\u001b[1;31m---------------------------------------------------------------------------\u001b[0m",
      "\u001b[1;31mBadCredentialsException\u001b[0m                   Traceback (most recent call last)",
      "Cell \u001b[1;32mIn[31], line 16\u001b[0m\n\u001b[0;32m     13\u001b[0m     \u001b[39mreturn\u001b[39;00m trend_repo\n\u001b[0;32m     15\u001b[0m \u001b[39m#pass liste of trend repositories to trend_repositories_info() to get infromation about repository\u001b[39;00m\n\u001b[1;32m---> 16\u001b[0m data\u001b[39m=\u001b[39mrepositories_info(trend_repositories_names(since\u001b[39m=\u001b[39;49m\u001b[39m'\u001b[39;49m\u001b[39mdaily\u001b[39;49m\u001b[39m'\u001b[39;49m))\n\u001b[0;32m     18\u001b[0m \u001b[39m#Save trend repo information to CSV file\u001b[39;00m\n\u001b[0;32m     19\u001b[0m df \u001b[39m=\u001b[39m pd\u001b[39m.\u001b[39mDataFrame(data)\n",
      "Cell \u001b[1;32mIn[31], line 8\u001b[0m, in \u001b[0;36mrepositories_info\u001b[1;34m(repositories_names)\u001b[0m\n\u001b[0;32m      6\u001b[0m trend_repo\u001b[39m=\u001b[39m[]\n\u001b[0;32m      7\u001b[0m \u001b[39mfor\u001b[39;00m repo_name \u001b[39min\u001b[39;00m repositories_names:\n\u001b[1;32m----> 8\u001b[0m     repository\u001b[39m=\u001b[39mg\u001b[39m.\u001b[39;49mget_repo(repo_name)\n\u001b[0;32m      9\u001b[0m     trend_repo\u001b[39m.\u001b[39mappend({\u001b[39m'\u001b[39m\u001b[39mCreated at\u001b[39m\u001b[39m'\u001b[39m:repository\u001b[39m.\u001b[39mcreated_at,\u001b[39m'\u001b[39m\u001b[39mname\u001b[39m\u001b[39m'\u001b[39m:repository\u001b[39m.\u001b[39mfull_name,\u001b[39m'\u001b[39m\u001b[39mlanguages\u001b[39m\u001b[39m'\u001b[39m:repository\u001b[39m.\u001b[39mlanguage,\n\u001b[0;32m     10\u001b[0m                        \u001b[39m'\u001b[39m\u001b[39mdescription\u001b[39m\u001b[39m'\u001b[39m:repository\u001b[39m.\u001b[39mdescription,\u001b[39m'\u001b[39m\u001b[39mtopics\u001b[39m\u001b[39m'\u001b[39m:repository\u001b[39m.\u001b[39mtopics,\u001b[39m'\u001b[39m\u001b[39mStars\u001b[39m\u001b[39m'\u001b[39m:repository\u001b[39m.\u001b[39mstargazers_count,\n\u001b[0;32m     11\u001b[0m                        \u001b[39m'\u001b[39m\u001b[39mWatchers\u001b[39m\u001b[39m'\u001b[39m:repository\u001b[39m.\u001b[39mwatchers,\u001b[39m'\u001b[39m\u001b[39mForks\u001b[39m\u001b[39m'\u001b[39m:repository\u001b[39m.\u001b[39mget_forks()\u001b[39m.\u001b[39mtotalCount,\u001b[39m'\u001b[39m\u001b[39mIssues\u001b[39m\u001b[39m'\u001b[39m:\u001b[39mlen\u001b[39m(\u001b[39mlist\u001b[39m(repository\u001b[39m.\u001b[39mget_issues())),\n\u001b[0;32m     12\u001b[0m                        \u001b[39m'\u001b[39m\u001b[39mContributors\u001b[39m\u001b[39m'\u001b[39m:\u001b[39mlen\u001b[39m(\u001b[39mlist\u001b[39m(repository\u001b[39m.\u001b[39mget_contributors()))})\n\u001b[0;32m     13\u001b[0m \u001b[39mreturn\u001b[39;00m trend_repo\n",
      "File \u001b[1;32m~\\AppData\\Local\\Packages\\PythonSoftwareFoundation.Python.3.11_qbz5n2kfra8p0\\LocalCache\\local-packages\\Python311\\site-packages\\github\\MainClass.py:321\u001b[0m, in \u001b[0;36mGithub.get_repo\u001b[1;34m(self, full_name_or_id, lazy)\u001b[0m\n\u001b[0;32m    317\u001b[0m \u001b[39mif\u001b[39;00m lazy:\n\u001b[0;32m    318\u001b[0m     \u001b[39mreturn\u001b[39;00m Repository\u001b[39m.\u001b[39mRepository(\n\u001b[0;32m    319\u001b[0m         \u001b[39mself\u001b[39m\u001b[39m.\u001b[39m__requester, {}, {\u001b[39m\"\u001b[39m\u001b[39murl\u001b[39m\u001b[39m\"\u001b[39m: url}, completed\u001b[39m=\u001b[39m\u001b[39mFalse\u001b[39;00m\n\u001b[0;32m    320\u001b[0m     )\n\u001b[1;32m--> 321\u001b[0m headers, data \u001b[39m=\u001b[39m \u001b[39mself\u001b[39;49m\u001b[39m.\u001b[39;49m__requester\u001b[39m.\u001b[39;49mrequestJsonAndCheck(\u001b[39m\"\u001b[39;49m\u001b[39mGET\u001b[39;49m\u001b[39m\"\u001b[39;49m, url)\n\u001b[0;32m    322\u001b[0m \u001b[39mreturn\u001b[39;00m Repository\u001b[39m.\u001b[39mRepository(\u001b[39mself\u001b[39m\u001b[39m.\u001b[39m__requester, headers, data, completed\u001b[39m=\u001b[39m\u001b[39mTrue\u001b[39;00m)\n",
      "File \u001b[1;32m~\\AppData\\Local\\Packages\\PythonSoftwareFoundation.Python.3.11_qbz5n2kfra8p0\\LocalCache\\local-packages\\Python311\\site-packages\\github\\Requester.py:398\u001b[0m, in \u001b[0;36mRequester.requestJsonAndCheck\u001b[1;34m(self, verb, url, parameters, headers, input)\u001b[0m\n\u001b[0;32m    397\u001b[0m \u001b[39mdef\u001b[39;00m \u001b[39mrequestJsonAndCheck\u001b[39m(\u001b[39mself\u001b[39m, verb, url, parameters\u001b[39m=\u001b[39m\u001b[39mNone\u001b[39;00m, headers\u001b[39m=\u001b[39m\u001b[39mNone\u001b[39;00m, \u001b[39minput\u001b[39m\u001b[39m=\u001b[39m\u001b[39mNone\u001b[39;00m):\n\u001b[1;32m--> 398\u001b[0m     \u001b[39mreturn\u001b[39;00m \u001b[39mself\u001b[39;49m\u001b[39m.\u001b[39;49m__check(\n\u001b[0;32m    399\u001b[0m         \u001b[39m*\u001b[39;49m\u001b[39mself\u001b[39;49m\u001b[39m.\u001b[39;49mrequestJson(\n\u001b[0;32m    400\u001b[0m             verb, url, parameters, headers, \u001b[39minput\u001b[39;49m, \u001b[39mself\u001b[39;49m\u001b[39m.\u001b[39;49m__customConnection(url)\n\u001b[0;32m    401\u001b[0m         )\n\u001b[0;32m    402\u001b[0m     )\n",
      "File \u001b[1;32m~\\AppData\\Local\\Packages\\PythonSoftwareFoundation.Python.3.11_qbz5n2kfra8p0\\LocalCache\\local-packages\\Python311\\site-packages\\github\\Requester.py:423\u001b[0m, in \u001b[0;36mRequester.__check\u001b[1;34m(self, status, responseHeaders, output)\u001b[0m\n\u001b[0;32m    421\u001b[0m output \u001b[39m=\u001b[39m \u001b[39mself\u001b[39m\u001b[39m.\u001b[39m__structuredFromJson(output)\n\u001b[0;32m    422\u001b[0m \u001b[39mif\u001b[39;00m status \u001b[39m>\u001b[39m\u001b[39m=\u001b[39m \u001b[39m400\u001b[39m:\n\u001b[1;32m--> 423\u001b[0m     \u001b[39mraise\u001b[39;00m \u001b[39mself\u001b[39m\u001b[39m.\u001b[39m__createException(status, responseHeaders, output)\n\u001b[0;32m    424\u001b[0m \u001b[39mreturn\u001b[39;00m responseHeaders, output\n",
      "\u001b[1;31mBadCredentialsException\u001b[0m: 401 {\"message\": \"Bad credentials\", \"documentation_url\": \"https://docs.github.com/rest\"}"
     ]
    }
   ],
   "source": [
    "token=\"YOUR TOKEN\"\n",
    "\n",
    "#method to get info about Trend repositories\n",
    "def repositories_info(repositories_names):\n",
    "    g = Github(token)\n",
    "    trend_repo=[]\n",
    "    for repo_name in repositories_names:\n",
    "        repository=g.get_repo(repo_name)\n",
    "        trend_repo.append({'Created at':repository.created_at,'name':repository.full_name,'languages':repository.language,\n",
    "                           'description':repository.description,'topics':repository.topics,'Stars':repository.stargazers_count,\n",
    "                           'Watchers':repository.watchers,'Forks':repository.get_forks().totalCount,'Issues':len(list(repository.get_issues())),\n",
    "                           'Contributors':len(list(repository.get_contributors()))})\n",
    "    return trend_repo\n",
    "\n",
    "#pass liste of trend repositories to trend_repositories_info() to get infromation about repository\n",
    "data=repositories_info(trend_repositories_names(since='daily'))\n",
    "\n",
    "#Save trend repo information to CSV file\n",
    "df = pd.DataFrame(data)\n",
    "df.to_csv('trend_repo.csv')"
   ]
  },
  {
   "attachments": {},
   "cell_type": "markdown",
   "metadata": {},
   "source": [
    "# Popular technolige"
   ]
  },
  {
   "cell_type": "code",
   "execution_count": null,
   "metadata": {},
   "outputs": [],
   "source": [
    "token=\"YOUR TOKEN\"\n",
    "\n",
    "def year_data(year,month):\n",
    "\n",
    "    url = 'https://api.github.com/search/repositories'\n",
    "    headers = {\n",
    "                'Accept': 'application/vnd.github+json',\n",
    "                'Authorization': f'Bearer {token}',\n",
    "                'X-GitHub-Api-Version': '2022-11-28'\n",
    "            }\n",
    "\n",
    "    repos=[]\n",
    "\n",
    "    start_date = datetime.date(year, month, 1)\n",
    "    end_date = start_date+relativedelta(months=1)\n",
    "    current_date = start_date\n",
    "\n",
    "    while current_date < end_date and current_date <= datetime.date.today():\n",
    "        #get 100 repo from page 1 to 10 and add him to repos liste\n",
    "        for page in range (1,11):\n",
    "            params = {'q': f\"created:{current_date}\",'per_page':100,'page':page,'sort':'stars, forks, help-wanted-issues, updated','order':'desc'}\n",
    "            response = requests.get(url, headers=headers, params=params,timeout=60000)\n",
    "            if(response.status_code==200):\n",
    "                data = response.json()\n",
    "                for repo in data['items']:\n",
    "                    repos.append([repo[\"created_at\"],repo[\"full_name\"],repo[\"language\"],repo[\"description\"], \n",
    "                                  repo[\"topics\"],repo[\"stargazers_count\"],repo[\"watchers_count\"],repo[\"forks_count\"],\n",
    "                                  repo[\"open_issues_count\"],repo[\"html_url\"]])\n",
    "            else:\n",
    "                raise Exception(f\"Something worng! error code: {response.status_code}\")\n",
    "        current_date += datetime.timedelta(days=1)\n",
    "    return repos\n"
   ]
  },
  {
   "cell_type": "code",
   "execution_count": null,
   "metadata": {},
   "outputs": [],
   "source": [
    "#Save Data of one Month(do it for each month)\n",
    "repos = year_data(2022,6)\n",
    "columns = [\"created_at\", \"full_name\", \"language\", \"description\", \"topics\", \"stargazers_count\", \"watchers_count\",\n",
    "            \"forks_count\", \"open_issues_count\", \"html_url\"]\n",
    "df = pd.DataFrame(repos, columns=columns)\n",
    "df.to_csv('Data/2022-06.csv')"
   ]
  },
  {
   "attachments": {},
   "cell_type": "markdown",
   "metadata": {},
   "source": [
    "# Merg Data"
   ]
  },
  {
   "cell_type": "code",
   "execution_count": null,
   "metadata": {},
   "outputs": [],
   "source": [
    "# Specify the folder path where the CSV files are located\n",
    "folder_path = 'PATH OF CSV FILES'\n",
    "\n",
    "# Get the list of CSV files in the folder\n",
    "csv_files = [file for file in os.listdir(folder_path) if file.endswith('.csv')]\n",
    "\n",
    "# Initialize an empty list to store the DataFrames\n",
    "dfs = []\n",
    "\n",
    "# Iterate over each CSV file\n",
    "for file in csv_files:\n",
    "    # Read the CSV file into a DataFrame\n",
    "    file_path = os.path.join(folder_path, file)\n",
    "    df = pd.read_csv(file_path)\n",
    "    \n",
    "    # Append the DataFrame to the list\n",
    "    dfs.append(df)\n",
    "\n",
    "# Concatenate the list of DataFrames into a single DataFrame\n",
    "merged_df = pd.concat(dfs, ignore_index=True)\n",
    "\n",
    "merged_df.to_csv('Data/2023-06-14..2022-06-01.csv', index=False)\n"
   ]
  },
  {
   "cell_type": "code",
   "execution_count": 28,
   "metadata": {},
   "outputs": [
    {
     "name": "stdout",
     "output_type": "stream",
     "text": [
      "<class 'pandas.core.frame.DataFrame'>\n",
      "RangeIndex: 378996 entries, 0 to 378995\n",
      "Data columns (total 11 columns):\n",
      " #   Column             Non-Null Count   Dtype \n",
      "---  ------             --------------   ----- \n",
      " 0   Unnamed: 0         378996 non-null  int64 \n",
      " 1   created_at         378996 non-null  object\n",
      " 2   full_name          378996 non-null  object\n",
      " 3   language           333284 non-null  object\n",
      " 4   description        272337 non-null  object\n",
      " 5   topics             378996 non-null  object\n",
      " 6   stargazers_count   378996 non-null  int64 \n",
      " 7   watchers_count     378996 non-null  int64 \n",
      " 8   forks_count        378996 non-null  int64 \n",
      " 9   open_issues_count  378996 non-null  int64 \n",
      " 10  html_url           378996 non-null  object\n",
      "dtypes: int64(5), object(6)\n",
      "memory usage: 31.8+ MB\n"
     ]
    }
   ],
   "source": [
    "df=pd.read_csv('Data/2023-06-14..2022-06-01.csv')\n",
    "df.info()"
   ]
  }
 ],
 "metadata": {
  "kernelspec": {
   "display_name": "Python 3",
   "language": "python",
   "name": "python3"
  },
  "language_info": {
   "codemirror_mode": {
    "name": "ipython",
    "version": 3
   },
   "file_extension": ".py",
   "mimetype": "text/x-python",
   "name": "python",
   "nbconvert_exporter": "python",
   "pygments_lexer": "ipython3",
   "version": "3.11.4"
  },
  "orig_nbformat": 4
 },
 "nbformat": 4,
 "nbformat_minor": 2
}
